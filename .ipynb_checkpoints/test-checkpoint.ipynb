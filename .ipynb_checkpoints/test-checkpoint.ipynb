{
 "cells": [
  {
   "cell_type": "code",
   "execution_count": null,
   "metadata": {},
   "outputs": [],
   "source": [
    "%load_ext sql"
   ]
  },
  {
   "cell_type": "code",
   "execution_count": null,
   "metadata": {},
   "outputs": [],
   "source": [
    "import pandas as pd"
   ]
  },
  {
   "cell_type": "code",
   "execution_count": null,
   "metadata": {},
   "outputs": [],
   "source": [
    "acc_df = pd.read_csv('databases/accident_clean.csv')"
   ]
  },
  {
   "cell_type": "code",
   "execution_count": null,
   "metadata": {},
   "outputs": [],
   "source": [
    "acc_df.columns\n",
    "\n",
    "acc_df.shape"
   ]
  },
  {
   "cell_type": "code",
   "execution_count": null,
   "metadata": {},
   "outputs": [],
   "source": [
    "# from sqlalchemy import create_engine\n",
    "# engine = create_engine('sqlite:///trial.db', echo=False)  #creates the DB using slqAlchemy package, \n",
    "import sqlite3"
   ]
  },
  {
   "cell_type": "code",
   "execution_count": null,
   "metadata": {},
   "outputs": [],
   "source": [
    "conn = sqlite3.connect('databases/car_acc.db')  #connects to DB if it exists, otherwise, it creates the file in local directory\n",
    "cursor = conn.cursor()            #cursor object is used to query the DB using the cursor.execute('SQL Code') function. "
   ]
  },
  {
   "cell_type": "code",
   "execution_count": null,
   "metadata": {},
   "outputs": [],
   "source": [
    "acc_df.to_sql('car_acc_table', con= conn)   #Convert DataFrame to sql table & adds it to the DB that the connection points to."
   ]
  },
  {
   "cell_type": "code",
   "execution_count": null,
   "metadata": {},
   "outputs": [],
   "source": [
    "%sql sqlite:///databases/car_acc.db"
   ]
  },
  {
   "cell_type": "code",
   "execution_count": null,
   "metadata": {},
   "outputs": [],
   "source": [
    "%%sql table <<\n",
    "SELECT  *\n",
    "FROM car_acc_table\n",
    "LIMIT 10"
   ]
  },
  {
   "cell_type": "code",
   "execution_count": null,
   "metadata": {},
   "outputs": [],
   "source": [
    "with open('databases/car_acc.sql', 'w') as f:  #create a sql file\n",
    "    for line in conn.iterdump():    #i.e. for each line iteration in the connected DB file\n",
    "        f.write('%s\\n' % line)      #the output is a file containing SQL queries to create the tables& their data."
   ]
  },
  {
   "cell_type": "code",
   "execution_count": null,
   "metadata": {},
   "outputs": [],
   "source": [
    "conn2 = sqlite3.connect(':memory:') #create an in memory DB connection\n",
    "cursor2 = conn2.cursor()            #create cursor object for manipulating DB\n",
    "with open('create.sql','r') as f:   #open .sql file\n",
    "    cursor2.executescript(f.read()) #execute each line in the .sql\n"
   ]
  },
  {
   "cell_type": "code",
   "execution_count": null,
   "metadata": {},
   "outputs": [],
   "source": [
    "%%timeit\n",
    "table_dict = [x for x in cursor2.execute('SELECT * FROM car_acc_table')] #results in tuple objects in a list. The table columns are lost in the output."
   ]
  },
  {
   "cell_type": "code",
   "execution_count": null,
   "metadata": {},
   "outputs": [],
   "source": [
    "%%timeit\n",
    "df = pd.read_sql('SELECT * FROM car_acc_table', conn2) #produces the DataFrame. Higher memory use & runtime."
   ]
  },
  {
   "cell_type": "code",
   "execution_count": null,
   "metadata": {},
   "outputs": [],
   "source": [
    "%%timeit\n",
    "df2 = pd.DataFrame.from_dict(table_dict) #create DataFrame from the dict. the columns should be included in the argument, otherwise column labels will be 0,1,2,3..."
   ]
  },
  {
   "cell_type": "code",
   "execution_count": 1,
   "metadata": {},
   "outputs": [],
   "source": [
    "import dash \n",
    "import plotly.graph_objects as go\n",
    "from dash import  dcc, html\n",
    "from dash.dependencies import Input, Output"
   ]
  },
  {
   "cell_type": "code",
   "execution_count": 2,
   "metadata": {
    "collapsed": true
   },
   "outputs": [
    {
     "ename": "NameError",
     "evalue": "name 'acc_df' is not defined",
     "output_type": "error",
     "traceback": [
      "\u001b[1;31m---------------------------------------------------------------------------\u001b[0m",
      "\u001b[1;31mNameError\u001b[0m                                 Traceback (most recent call last)",
      "Input \u001b[1;32mIn [2]\u001b[0m, in \u001b[0;36m<module>\u001b[1;34m\u001b[0m\n\u001b[0;32m      1\u001b[0m fig \u001b[38;5;241m=\u001b[39m go\u001b[38;5;241m.\u001b[39mFigure()\n\u001b[0;32m      3\u001b[0m fig\u001b[38;5;241m.\u001b[39madd_trace(\n\u001b[1;32m----> 4\u001b[0m     go\u001b[38;5;241m.\u001b[39mScatter(x \u001b[38;5;241m=\u001b[39m \u001b[43macc_df\u001b[49m[\u001b[38;5;124m'\u001b[39m\u001b[38;5;124mDay_of_Week\u001b[39m\u001b[38;5;124m'\u001b[39m]\u001b[38;5;241m.\u001b[39mhead(\u001b[38;5;241m10\u001b[39m), y \u001b[38;5;241m=\u001b[39m acc_df[\u001b[38;5;124m'\u001b[39m\u001b[38;5;124mNumber_of_Vehicles\u001b[39m\u001b[38;5;124m'\u001b[39m]\u001b[38;5;241m.\u001b[39mhead(\u001b[38;5;241m10\u001b[39m),\n\u001b[0;32m      5\u001b[0m     mode \u001b[38;5;241m=\u001b[39m \u001b[38;5;124m'\u001b[39m\u001b[38;5;124mlines\u001b[39m\u001b[38;5;124m'\u001b[39m,\n\u001b[0;32m      6\u001b[0m     name \u001b[38;5;241m=\u001b[39m \u001b[38;5;124m'\u001b[39m\u001b[38;5;124mplot\u001b[39m\u001b[38;5;124m'\u001b[39m\n\u001b[0;32m      7\u001b[0m                 )\n\u001b[0;32m      8\u001b[0m \n\u001b[0;32m      9\u001b[0m             )\n",
      "\u001b[1;31mNameError\u001b[0m: name 'acc_df' is not defined"
     ]
    }
   ],
   "source": [
    "fig = go.Figure()\n",
    "    \n",
    "fig.add_trace(\n",
    "    go.Scatter(x = acc_df['Day_of_Week'].head(10), y = acc_df['Number_of_Vehicles'].head(10),\n",
    "    mode = 'lines',\n",
    "    name = 'plot'\n",
    "                )\n",
    "\n",
    "            )"
   ]
  },
  {
   "cell_type": "code",
   "execution_count": null,
   "metadata": {},
   "outputs": [],
   "source": [
    "df_2 = pd.read_sql('''\n",
    "                    SELECT  *\n",
    "                    FROM car_acc_table\n",
    "                    LIMIT 10\n",
    "                    ''', con = conn)"
   ]
  },
  {
   "cell_type": "code",
   "execution_count": null,
   "metadata": {},
   "outputs": [],
   "source": [
    "df_2"
   ]
  },
  {
   "cell_type": "code",
   "execution_count": 3,
   "metadata": {},
   "outputs": [],
   "source": [
    "import vaex"
   ]
  },
  {
   "cell_type": "code",
   "execution_count": 4,
   "metadata": {},
   "outputs": [],
   "source": [
    "vaex_df = vaex.from_csv('databases/accident_clean.csv')"
   ]
  },
  {
   "cell_type": "code",
   "execution_count": 1,
   "metadata": {},
   "outputs": [
    {
     "ename": "NameError",
     "evalue": "name 'go' is not defined",
     "output_type": "error",
     "traceback": [
      "\u001b[1;31m---------------------------------------------------------------------------\u001b[0m",
      "\u001b[1;31mNameError\u001b[0m                                 Traceback (most recent call last)",
      "\u001b[1;32mc:\\Users\\teddy\\Documents\\_Software Engineering\\Car Accidents Project\\car_acc\\test.ipynb Cell 21'\u001b[0m in \u001b[0;36m<module>\u001b[1;34m\u001b[0m\n\u001b[1;32m----> <a href='vscode-notebook-cell:/c%3A/Users/teddy/Documents/_Software%20Engineering/Car%20Accidents%20Project/car_acc/test.ipynb#ch0000020?line=0'>1</a>\u001b[0m fig \u001b[39m=\u001b[39m go\u001b[39m.\u001b[39mFigure()\n\u001b[0;32m      <a href='vscode-notebook-cell:/c%3A/Users/teddy/Documents/_Software%20Engineering/Car%20Accidents%20Project/car_acc/test.ipynb#ch0000020?line=2'>3</a>\u001b[0m fig\u001b[39m.\u001b[39madd_trace(\n\u001b[0;32m      <a href='vscode-notebook-cell:/c%3A/Users/teddy/Documents/_Software%20Engineering/Car%20Accidents%20Project/car_acc/test.ipynb#ch0000020?line=3'>4</a>\u001b[0m     go\u001b[39m.\u001b[39mScatter(x \u001b[39m=\u001b[39m vaex_df[\u001b[39m'\u001b[39m\u001b[39mDay_of_Week\u001b[39m\u001b[39m'\u001b[39m]\u001b[39m.\u001b[39mvalues[:\u001b[39m100000\u001b[39m], y \u001b[39m=\u001b[39m vaex_df[\u001b[39m'\u001b[39m\u001b[39mNumber_of_Vehicles\u001b[39m\u001b[39m'\u001b[39m]\u001b[39m.\u001b[39mvalues[:\u001b[39m100000\u001b[39m],\n\u001b[0;32m      <a href='vscode-notebook-cell:/c%3A/Users/teddy/Documents/_Software%20Engineering/Car%20Accidents%20Project/car_acc/test.ipynb#ch0000020?line=4'>5</a>\u001b[0m     mode \u001b[39m=\u001b[39m \u001b[39m'\u001b[39m\u001b[39mmarkers\u001b[39m\u001b[39m'\u001b[39m,\n\u001b[1;32m   (...)\u001b[0m\n\u001b[0;32m      <a href='vscode-notebook-cell:/c%3A/Users/teddy/Documents/_Software%20Engineering/Car%20Accidents%20Project/car_acc/test.ipynb#ch0000020?line=7'>8</a>\u001b[0m \n\u001b[0;32m      <a href='vscode-notebook-cell:/c%3A/Users/teddy/Documents/_Software%20Engineering/Car%20Accidents%20Project/car_acc/test.ipynb#ch0000020?line=8'>9</a>\u001b[0m             )\n",
      "\u001b[1;31mNameError\u001b[0m: name 'go' is not defined"
     ]
    }
   ],
   "source": [
    "fig = go.Figure()\n",
    "    \n",
    "fig.add_trace(\n",
    "    go.Scatter(x = vaex_df['Day_of_Week'].values[:100000], y = vaex_df['Number_of_Vehicles'].values[:100000],\n",
    "    mode = 'markers',\n",
    "    name = 'plot'\n",
    "                )\n",
    "\n",
    "            )"
   ]
  },
  {
   "cell_type": "code",
   "execution_count": null,
   "metadata": {},
   "outputs": [],
   "source": []
  }
 ],
 "metadata": {
  "interpreter": {
   "hash": "3725e8a8d1f2963f289da824bca102df5afc3c109908f193a09de07b132ed76c"
  },
  "kernelspec": {
   "display_name": "Python 3 (ipykernel)",
   "language": "python",
   "name": "python3"
  },
  "language_info": {
   "codemirror_mode": {
    "name": "ipython",
    "version": 3
   },
   "file_extension": ".py",
   "mimetype": "text/x-python",
   "name": "python",
   "nbconvert_exporter": "python",
   "pygments_lexer": "ipython3",
   "version": "3.9.10"
  }
 },
 "nbformat": 4,
 "nbformat_minor": 2
}
